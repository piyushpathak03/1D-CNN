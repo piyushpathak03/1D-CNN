{
 "cells": [
  {
   "cell_type": "markdown",
   "metadata": {},
   "source": [
    "# Deep Learning - *SS19 - 27.06.2019*\n",
    "# 1D-CNN Tutorial 01: Simple 1D-CNNs in Keras"
   ]
  },
  {
   "cell_type": "markdown",
   "metadata": {},
   "source": [
    "## Table of Contents\n",
    "- [Introduction](#introduction)<br>\n",
    "- [Revision: Convolutional Neural Networks](#Convolutional_Neural_Networks)<br>\n",
    "- [1D CNN vs. 2D CNN](#1D_CNN_vs_2D_CNN)<br>\n",
    "    - [What are the differences between 1D and 2D CNNs?](#What_are_the_differences_between_1D_and_2D_CNNs)<br>\n",
    "- [Construction of a 1D CNN in Keras](#Construction_of_a_1D_CNN_in_Keras)<br>\n",
    "    - [How to construct a 1D CNN in Keras?](#How_to_construct_a_1D_CNN_in_Keras)<br>\n",
    "- [1D-CNN text classification](#1D_CNN_text_classification)<br>\n",
    "    - [The dataset](#The_dataset)<br>  \n",
    "    - [Prepare data](#Prepare_data)<br>\n",
    "    - [Build model](#Build_model)<br>\n",
    "    - [Evaluation data](#Evaluation_data)<br>\n",
    "    - [Plot data](#Plot_data)\n",
    "    - [Predictions](#predictions)\n",
    "    - [Compromise](#compromise)\n",
    "- [Summary](#summary)<br>\n",
    "- [References](#references)<br>"
   ]
  },
  {
   "cell_type": "markdown",
   "metadata": {},
   "source": [
    "## Introduction<a id=\"introduction\"></a>\n",
    "\n",
    "This tutorial is about 1D convolutional neural networks (1D CNNs or 1D ConvNets) for text classification in Keras. It gives a short introduction about these types of neural networks and shows the diffrences between an one dimension CNN and a two dimension CNNs, which where already known.  \n",
    "Then the tutorial shows how to develop an exemplary one dimensional CNN step-by-step. Afterwards there's an excercise where you have to tune a CNN yourself to get to know the parameters better.\n"
   ]
  },
  {
   "cell_type": "markdown",
   "metadata": {},
   "source": [
    "## Revision: Convolutional Neural Networks <a id=\"Convolutional_Neural_Networks\"></a>\n",
    "\n",
    "A convolutional neural network (CNN or ConvNet), as we have already learned, is an artificial neural network. CNNs are used in numerous modern artificial intelligence technologies, primarily in the machine processing of image or audio data. Basically, the structure of a classic convolutional neural network consists of one or more convolutional layers, followed by a pooling layer and a fully-connected layer. In principle, this unit can be repeated as often as desired. \n",
    "\n",
    "By learning and applying features (training), it is possible to recognize patterns and objects through the network. Higher layers use the data of lower layers, so that even more complex patterns can be recognized. "
   ]
  },
  {
   "cell_type": "markdown",
   "metadata": {},
   "source": [
    "## 1D CNNs versus 2D CNNs<a id=\"1D_CNN_vs_2D_CNN\"></a>\n",
    "\n",
    "The first tutorial about CNNs ('Simple convolutional neural network for handdrawn digit recognition in Keras') focused on a two dimensional convolutional neural network, which is especially suitable for image recognition problems. One dimensional convolutional neural network, on the other hand, are more commonly used for natural language processing (NLP) or analysis of time sequences of sensor data. Other or more specific examples could be audio signals, gyroscope or accelerometer data. "
   ]
  },
  {
   "cell_type": "markdown",
   "metadata": {},
   "source": [
    "### What are the differences between 1D and 2D CNNs?<a id=\"What_are_the_differences_between_1D_and_2D_CNNs\"></a>\n",
    "\n",
    "CNNs, whether 1D, 2D or 3D CNNs, share the same properties and approach. The biggest difference is the dimensionality of the input data and the way the filters, also known as convolution kernel or feature detector, used move across the data. Below is a sample visualization of the data processing of a 1D CNN compared to a 2D CNN. The illustration is an excellent opportunity to demonstrate the different processing methods using examples:  \n",
    "\n",
    "![1D CNN and 2D CNN - Examples](img/1Dcnn_vs_2Dcnn.png \"1D CNN and 2D CNN - Examples\")\n",
    "\n",
    "**Explanatory note:** In the graphic on the left we see an example for NLP (example for 1D CNN). The set consists of six parts, each represented by a vector. The feature detector always covers the complete word, where the height of the Detector determines how many components of a sentence are taken into account during training. In this example, the height is two and the feature detector would iterate five times over the data. \n",
    "On the right side we see the example of a 2D CNN based on computer vision. Each pixel of the image is defined by an x and a y position. In addition, each pixel also contains the three values for RGB. The feature detector in this case has a dimension of 2x2. As suggested in the graphic, the feature detector moves horizontally and vertically across the image. \n",
    "\n",
    "The above-mentioned examples of the use of 1D CNNs already show that they are very effective in extracting characteristics from a fixed-length segment of the entire data set. However, it should not be too important in the evaluation where the characteristics are located in the segment. \n",
    "\n",
    "Another difference between 2D and 1D CNNs is that 1D networks allow the use of larger filter sizes. This means that if a 1D CNN uses a size 7 filter, it has only seven feature vectors, whereas a 2D CNN with a filter size of 7 would have 49 feature vectors, making it a very broad selection. Also, with 1D CNNs, you can use larger convolution windows. A small example: In a 2D convolution layer that uses a 3x 3 convolution window, nine feature vectors (3x3=9) are used. With a 1D convolution layer, a window of size 3 contains only three feature vectors, which means you can afford a window size of 7 or 9 easily.  "
   ]
  },
  {
   "cell_type": "markdown",
   "metadata": {},
   "source": [
    "## Construction of a 1D CNN in Keras<a id=\"Construction_of_a_1D_CNN_in_Keras\"></a>\n",
    "There are many standard CNN models that Keras provides. All models can be viewed in detail on the Keras website: https://keras.io/getting-started/sequential-model-guide/ "
   ]
  },
  {
   "cell_type": "markdown",
   "metadata": {},
   "source": [
    "### How to construct a 1D CNN in Keras?<a id=\"How_to_construct_a_1D_CNN_in_Keras\"></a>\n",
    "\n",
    "To understand the steps a 1D CNN goes through, we will look at a simplified example that provides an overview.\n",
    "\n",
    "![Contruction of a 1D CNN](img/aufbau_1d_cnn.png \"Contruction of a 1D CNN\")\n",
    "\n",
    "To make the graphic even more understandable, a few additions to the individual layers. Each input is a matrix defined by height and width. The \"height\" is the length of a data set that is fed into the network. It is also called the input height. The \"width\" or also called depth is the width of a data set that is fed into the network.\n",
    "\n",
    "Pooling is divided into average, mean and max pooling. Pooling layers have the advantage that they reduce the variance, increase the calculation performance, offer possibilities to create deeper networks, which in turn can solve more complex tasks and are a preventive measure against overfitting.\n",
    "Most often, though, 1D CNNs use max pooling. How the max pooling works is described in the figure. Average pooling works roughly as follows: It counts everything and then flows to the next layer, which means that all values are actually used for feature mapping and output - which is a very generalized calculation. If we don't need all inputs from the conv layer, we get a poor accuracy for the average pooling. However, it is well suited for object localization. Since mean pooling has proven to be less relevant and efficient, we won't go into that further.  "
   ]
  },
  {
   "cell_type": "markdown",
   "metadata": {},
   "source": [
    "## 1D-CNN text classification<a id=\"1D_CNN_text_classification\"></a>\n",
    "\n",
    "The phyton code of a 1D CNN is almost analogous to that of a 2D CNN, meaning that most of the commands to create a CNN are identical or at least similar. In this example, a simple 1D CNN model is created, fed with data, and then trained. "
   ]
  },
  {
   "cell_type": "markdown",
   "metadata": {},
   "source": [
    "### The dataset<a id=\"The_dataset\"></a>\n",
    "\n",
    "As our dataset we will use the IMDB dataset, which was already used in the machine learning exercise. Before you start, a little note: Run all code snipes to make sure the 1D CNN creation exercise works smoothly!  "
   ]
  },
  {
   "cell_type": "markdown",
   "metadata": {},
   "source": [
    "### Prepare data<a id=\"Prepare_data\"></a>"
   ]
  },
  {
   "cell_type": "code",
   "execution_count": 1,
   "metadata": {},
   "outputs": [
    {
     "name": "stderr",
     "output_type": "stream",
     "text": [
      "Using TensorFlow backend.\n"
     ]
    }
   ],
   "source": [
    "from __future__ import print_function\n",
    "\n",
    "from keras.preprocessing import sequence\n",
    "from keras.models import Sequential\n",
    "from keras.layers import Dense, Dropout, Activation, Conv1D, GlobalMaxPooling1D, Embedding\n",
    "from keras.datasets import imdb\n",
    "from keras.utils import plot_model\n",
    "from keras import optimizers\n",
    "import matplotlib.pyplot as plt\n",
    "import numpy as np\n",
    "# Graphic output\n",
    "from IPython.display import SVG\n",
    "from keras.utils.vis_utils import model_to_dot"
   ]
  },
  {
   "cell_type": "code",
   "execution_count": 2,
   "metadata": {},
   "outputs": [
    {
     "name": "stdout",
     "output_type": "stream",
     "text": [
      "Loading data...\n",
      "25000 train sequences\n",
      "25000 test sequences\n"
     ]
    }
   ],
   "source": [
    "print('Loading data...')\n",
    "(x_train, y_train), (x_test, y_test) = imdb.load_data(num_words=10000)\n",
    "test_data = x_test\n",
    "print(len(x_train), 'train sequences')\n",
    "print(len(x_test), 'test sequences')\n",
    "#print(x_train[450])"
   ]
  },
  {
   "cell_type": "markdown",
   "metadata": {},
   "source": [
    "The IMDB data set consists of 25,000 pre-processed positive and negative film critiques. In pre-processing, each critic is encoded into a sequence of word indices. Same words are assigned to the same number (integer). \n",
    "\n",
    "**Example:** ? hello world how is it --> 1 2 3 4 5 6 || ? good question world lkz --> 1 7 8 3 0. \n",
    "\n",
    "Then the data set is re-indexed according to the number of contained words and their frequency. This means that the third value in the list is the third most common word in the list. As a convention, \"0\" does not stand for a specific word, but instead is used to encode any unknown word. \n",
    "This allows fast filter operations like: \"Consider only the 10,000 most common words\". [[5]](#r5)\n",
    "\n",
    "- 0 = 0: Stands for words that could not be translated. For example, if the word is not in the database and therefore not known\n",
    "- 1 = ?: Symbolizes the start of a critic\n",
    "\n",
    "Arguments:\n",
    "- **num_words:** integer or None. Top most frequent words to consider. Any less frequent word will appear as `oov_char` value in the sequence data."
   ]
  },
  {
   "cell_type": "code",
   "execution_count": 3,
   "metadata": {},
   "outputs": [
    {
     "name": "stdout",
     "output_type": "stream",
     "text": [
      "Pad sequences (samples x time)\n",
      "x_train shape: (25000, 800)\n",
      "x_test shape: (25000, 800)\n",
      "Build model...\n"
     ]
    }
   ],
   "source": [
    "print('Pad sequences (samples x time)')\n",
    "x_train = sequence.pad_sequences(sequences=x_train, maxlen=800)\n",
    "x_test = sequence.pad_sequences(sequences=x_test, maxlen=800)\n",
    "print('x_train shape:', x_train.shape)\n",
    "print('x_test shape:', x_test.shape)\n",
    "\n",
    "print('Build model...')\n",
    "model = Sequential()"
   ]
  },
  {
   "cell_type": "markdown",
   "metadata": {},
   "source": [
    "The method `pad_sequences` sets all sequences to the same length. `pad_sequences` converts the list of integers into a 2D numpy array (`num_samples`, `num_timesteps`). \n",
    "`num_timesteps` is either the specified maxlen argument or the length of the longest sequence in the list. All sequences that are shorter will be filled to the set length, all sequences that are longer than their set length will be trimmed. The length of the trimmed part is compared with the `num_timesteps` length and either filled or cut again. There is no rule of thumb for selecting the maximum length of the sequences, so you have to test this manually and adjust it to the results. \n",
    "What can be said, however, is that the smaller the sequences are selected, the less performance is required. But the recognition rate decreases. [[6]](#r6)\n",
    "\n",
    "Arguments:\n",
    "- **sequences:** List of lists, where each element is a sequence\n",
    "- **maxlen:** Int, maximum length of all sequences\n"
   ]
  },
  {
   "cell_type": "markdown",
   "metadata": {},
   "source": [
    "### Build model<a id=\"Build_model\"></a>"
   ]
  },
  {
   "cell_type": "code",
   "execution_count": 4,
   "metadata": {},
   "outputs": [],
   "source": [
    "model.add(Embedding(input_dim=10000,\n",
    "                    output_dim=50,\n",
    "                    input_length=800))"
   ]
  },
  {
   "cell_type": "markdown",
   "metadata": {},
   "source": [
    "Efficient embedding converts positive integers (indices) into dense vectors of fixed size, meaning each word is converted into a vector of fixed length. Each word is always mapped to the same vector, so that information about the word is encoded in this vector. To use embedding layer, all words must be encoded using indexes. Since the data is already encoded, there is no need to index the data. \n",
    "\n",
    "In the next step, the numbers or words (indices) are converted into vectors. For example, the value [[2],[3],[4],[5],[6]] becomes the vector [[0.25, 0.1], [0.6, -0.2],[0.54, 0.3],[0.33, -0.55],[0.03, -0.09]]. \n",
    "\n",
    "The `output_dim` parameter can be used to decide how many dimensions are assigned to each index. \n",
    "For example, the vectors formed in the example have two dimensions. The generated vectors are now saved in the embedding layer and provided with an index. This index can be used to look up or edit the vector. The vectors of the individual words can be used to examine whether words are similar. When using an embedding layer, however, it should be noted that the embedding layer can only be used as the first layer (input layer) in a model. [[8](#r8)-[10](#r10)]\n",
    "\n",
    "![Embedding Example](img/embedding_example.png \"Embedding Example\")\n",
    "\n",
    "The argumnete used are:\n",
    "- **input_dim:** int > 0. Size of the vocabulary, i.e. maximum integer index + 1\n",
    "- **output_dim:** int >= 0. Dimension of the dense embedding\n",
    "- **input_length:** Length of input sequences, when it is constant. This argument is required if you are going to connect Flatten then Dense layers upstream (without it, the shape of the dense outputs cannot be computed)"
   ]
  },
  {
   "cell_type": "code",
   "execution_count": 5,
   "metadata": {},
   "outputs": [],
   "source": [
    "model.add(Dropout(0.5))"
   ]
  },
  {
   "cell_type": "markdown",
   "metadata": {},
   "source": [
    "After creating an embedding layer, a dropout is generated. The dropout prevents the model from overfitting during the course. For this purpose, a fraction of values from the embedding layer is randomly set to 0. The dropout rate can be selected between 0.0 and 1.0. During each training phase, individual nodes are set to 0 with the specified probability and their edges are removed. This results in a new reduced network with different edge connections in each training phase.\n",
    "\n",
    "Following the training phase, the removed nodes are reinserted into the network with their original weight. For input nodes, you should make sure that the dropout rate is set low, for example 0.2. Otherwise information will be lost immediately before starting the training and will not be available during the entire training. For other nodes you can usually start with a dropout rate of 0.5. The dropout rate should nevertheless be adjusted according to the training results."
   ]
  },
  {
   "cell_type": "code",
   "execution_count": 6,
   "metadata": {},
   "outputs": [],
   "source": [
    "model.add(Conv1D(filters=250,\n",
    "                 kernel_size=3,\n",
    "                 padding='valid',\n",
    "                 activation='relu',\n",
    "                 strides=1))"
   ]
  },
  {
   "cell_type": "markdown",
   "metadata": {},
   "source": [
    "Now a `Convolution1D` is added and the word group filters of size `filter_length` are learned. The convolutional layer consists of a layer of \"filters\". The filters each take up a subset of the input data that is applied over the entire input. During convolution, the input data is assigned to the filters via a linear matrix multiplication. At the end an activtation is made on all data.\n",
    "\n",
    "Here is an abstract model how the 1D Convolution works:\n",
    "<br>We call each row in the embedding layer and multiply each element in the block by the weight value and fill in the weighted sum in the output. Instead of a two-dimensional block, in a 1D convolution we use a one-dimensional block of the length of the kernel. This weighted sum is then distributed across all channels. It is also possible to create multiple convlutional layers in a row without having to use one between layers. [[[7]](#r7),[[8]](#r8),[[14]](#r14)]\n",
    "<br><table><tr>\n",
    "    <td>![Convolution process](img/conv_01.png \"Convolution process\")</td>\n",
    "    <td>![Convolution process](img/conv_02.png \"Convolution process\")</td>\n",
    "    <td>![Convolution process](img/conv_03.png \"Convolution process\")</td>\n",
    "</tr></table> \n",
    "\n",
    "The arguments:\n",
    "- **filters:** Integer, the dimensionality of the output space (i.e. the number of output filters in the convolution)\n",
    "- **kernel_size:** An integer or tuple/list of a single integer, specifying the length of the 1D convolution window\n",
    "- **strides:** An integer or tuple/list of a single integer, specifying the stride length of the convolution. Specifying any stride value != 1 is incompatible with specifying any dilation_rate value != 1\n",
    "- **padding:** One of \"valid\", \"causal\" or \"same\" (case-insensitive). \"valid\" means \"no padding\". \"same\" results in padding the input such that the output has the same length as the original input. \"causal\" results in causal (dilated) convolutions, e.g. output[t] does not depend on input[t + 1:]. A zero padding is used such that the output has the same length as the original input. Useful when modeling temporal data where the model should not violate the temporal order\n",
    "- **activation:** The activation function. If you don't specify anything, no activation is applied"
   ]
  },
  {
   "cell_type": "code",
   "execution_count": 7,
   "metadata": {},
   "outputs": [],
   "source": [
    "model.add(GlobalMaxPooling1D())"
   ]
  },
  {
   "cell_type": "markdown",
   "metadata": {},
   "source": [
    "A pooling layer scans the output of the previous layer. This reduces the number of operations required for all subsequent layers without losing the valid information of the previous layer. [[11]](#r11)"
   ]
  },
  {
   "cell_type": "code",
   "execution_count": 8,
   "metadata": {},
   "outputs": [],
   "source": [
    "model.add(Dense(250))\n",
    "model.add(Activation('relu'))"
   ]
  },
  {
   "cell_type": "markdown",
   "metadata": {},
   "source": [
    "The data changed by GlobalMaxPooling1D are then saved in a new dense layer. The advantage of a dense layer is that no information is lost with a dense layer, even if more or less layers are used than before. At this point, however, we use exactly as many dimensions as we have filters. This assigns each filter to one dimension. Then you execute an activation on the output. [[12]](#r12)\n",
    "\n",
    "![Dense Example](img/dense_example.png \"Dense Example\")"
   ]
  },
  {
   "cell_type": "code",
   "execution_count": 9,
   "metadata": {},
   "outputs": [],
   "source": [
    "model.add(Dense(1, activation='sigmoid'))"
   ]
  },
  {
   "cell_type": "markdown",
   "metadata": {},
   "source": [
    "We merge the data on a single output layer (as a sequence) and execute a `sigmoid` on the output of the layer. More about activations: [[15]](#r15)"
   ]
  },
  {
   "cell_type": "code",
   "execution_count": 10,
   "metadata": {},
   "outputs": [],
   "source": [
    "model.compile(loss='binary_crossentropy',\n",
    "              optimizer='adam',\n",
    "              metrics=['accuracy'])              \n",
    "#model.summary()"
   ]
  },
  {
   "cell_type": "code",
   "execution_count": 11,
   "metadata": {},
   "outputs": [
    {
     "data": {
      "image/svg+xml": [
       "<svg height=\"626pt\" viewBox=\"0.00 0.00 462.00 626.00\" width=\"462pt\" xmlns=\"http://www.w3.org/2000/svg\" xmlns:xlink=\"http://www.w3.org/1999/xlink\">\n",
       "<g class=\"graph\" id=\"graph0\" transform=\"scale(1 1) rotate(0) translate(4 622)\">\n",
       "<title>G</title>\n",
       "<polygon fill=\"white\" points=\"-4,4 -4,-622 458,-622 458,4 -4,4\" stroke=\"none\"/>\n",
       "<!-- 1371404709000 -->\n",
       "<g class=\"node\" id=\"node1\"><title>1371404709000</title>\n",
       "<polygon fill=\"none\" points=\"65.5,-498.5 65.5,-544.5 388.5,-544.5 388.5,-498.5 65.5,-498.5\" stroke=\"black\"/>\n",
       "<text font-family=\"Times New Roman,serif\" font-size=\"14.00\" text-anchor=\"middle\" x=\"147\" y=\"-517.8\">embedding_1: Embedding</text>\n",
       "<polyline fill=\"none\" points=\"228.5,-498.5 228.5,-544.5 \" stroke=\"black\"/>\n",
       "<text font-family=\"Times New Roman,serif\" font-size=\"14.00\" text-anchor=\"middle\" x=\"256.5\" y=\"-529.3\">input:</text>\n",
       "<polyline fill=\"none\" points=\"228.5,-521.5 284.5,-521.5 \" stroke=\"black\"/>\n",
       "<text font-family=\"Times New Roman,serif\" font-size=\"14.00\" text-anchor=\"middle\" x=\"256.5\" y=\"-506.3\">output:</text>\n",
       "<polyline fill=\"none\" points=\"284.5,-498.5 284.5,-544.5 \" stroke=\"black\"/>\n",
       "<text font-family=\"Times New Roman,serif\" font-size=\"14.00\" text-anchor=\"middle\" x=\"336.5\" y=\"-529.3\">(None, 800)</text>\n",
       "<polyline fill=\"none\" points=\"284.5,-521.5 388.5,-521.5 \" stroke=\"black\"/>\n",
       "<text font-family=\"Times New Roman,serif\" font-size=\"14.00\" text-anchor=\"middle\" x=\"336.5\" y=\"-506.3\">(None, 800, 50)</text>\n",
       "</g>\n",
       "<!-- 1371404709784 -->\n",
       "<g class=\"node\" id=\"node2\"><title>1371404709784</title>\n",
       "<polygon fill=\"none\" points=\"82,-415.5 82,-461.5 372,-461.5 372,-415.5 82,-415.5\" stroke=\"black\"/>\n",
       "<text font-family=\"Times New Roman,serif\" font-size=\"14.00\" text-anchor=\"middle\" x=\"147\" y=\"-434.8\">dropout_1: Dropout</text>\n",
       "<polyline fill=\"none\" points=\"212,-415.5 212,-461.5 \" stroke=\"black\"/>\n",
       "<text font-family=\"Times New Roman,serif\" font-size=\"14.00\" text-anchor=\"middle\" x=\"240\" y=\"-446.3\">input:</text>\n",
       "<polyline fill=\"none\" points=\"212,-438.5 268,-438.5 \" stroke=\"black\"/>\n",
       "<text font-family=\"Times New Roman,serif\" font-size=\"14.00\" text-anchor=\"middle\" x=\"240\" y=\"-423.3\">output:</text>\n",
       "<polyline fill=\"none\" points=\"268,-415.5 268,-461.5 \" stroke=\"black\"/>\n",
       "<text font-family=\"Times New Roman,serif\" font-size=\"14.00\" text-anchor=\"middle\" x=\"320\" y=\"-446.3\">(None, 800, 50)</text>\n",
       "<polyline fill=\"none\" points=\"268,-438.5 372,-438.5 \" stroke=\"black\"/>\n",
       "<text font-family=\"Times New Roman,serif\" font-size=\"14.00\" text-anchor=\"middle\" x=\"320\" y=\"-423.3\">(None, 800, 50)</text>\n",
       "</g>\n",
       "<!-- 1371404709000&#45;&gt;1371404709784 -->\n",
       "<g class=\"edge\" id=\"edge2\"><title>1371404709000-&gt;1371404709784</title>\n",
       "<path d=\"M227,-498.366C227,-490.152 227,-480.658 227,-471.725\" fill=\"none\" stroke=\"black\"/>\n",
       "<polygon fill=\"black\" points=\"230.5,-471.607 227,-461.607 223.5,-471.607 230.5,-471.607\" stroke=\"black\"/>\n",
       "</g>\n",
       "<!-- 1371863287904 -->\n",
       "<g class=\"node\" id=\"node3\"><title>1371863287904</title>\n",
       "<polygon fill=\"none\" points=\"80,-332.5 80,-378.5 374,-378.5 374,-332.5 80,-332.5\" stroke=\"black\"/>\n",
       "<text font-family=\"Times New Roman,serif\" font-size=\"14.00\" text-anchor=\"middle\" x=\"143.5\" y=\"-351.8\">conv1d_1: Conv1D</text>\n",
       "<polyline fill=\"none\" points=\"207,-332.5 207,-378.5 \" stroke=\"black\"/>\n",
       "<text font-family=\"Times New Roman,serif\" font-size=\"14.00\" text-anchor=\"middle\" x=\"235\" y=\"-363.3\">input:</text>\n",
       "<polyline fill=\"none\" points=\"207,-355.5 263,-355.5 \" stroke=\"black\"/>\n",
       "<text font-family=\"Times New Roman,serif\" font-size=\"14.00\" text-anchor=\"middle\" x=\"235\" y=\"-340.3\">output:</text>\n",
       "<polyline fill=\"none\" points=\"263,-332.5 263,-378.5 \" stroke=\"black\"/>\n",
       "<text font-family=\"Times New Roman,serif\" font-size=\"14.00\" text-anchor=\"middle\" x=\"318.5\" y=\"-363.3\">(None, 800, 50)</text>\n",
       "<polyline fill=\"none\" points=\"263,-355.5 374,-355.5 \" stroke=\"black\"/>\n",
       "<text font-family=\"Times New Roman,serif\" font-size=\"14.00\" text-anchor=\"middle\" x=\"318.5\" y=\"-340.3\">(None, 798, 250)</text>\n",
       "</g>\n",
       "<!-- 1371404709784&#45;&gt;1371863287904 -->\n",
       "<g class=\"edge\" id=\"edge3\"><title>1371404709784-&gt;1371863287904</title>\n",
       "<path d=\"M227,-415.366C227,-407.152 227,-397.658 227,-388.725\" fill=\"none\" stroke=\"black\"/>\n",
       "<polygon fill=\"black\" points=\"230.5,-388.607 227,-378.607 223.5,-388.607 230.5,-388.607\" stroke=\"black\"/>\n",
       "</g>\n",
       "<!-- 1371883034104 -->\n",
       "<g class=\"node\" id=\"node4\"><title>1371883034104</title>\n",
       "<polygon fill=\"none\" points=\"0,-249.5 0,-295.5 454,-295.5 454,-249.5 0,-249.5\" stroke=\"black\"/>\n",
       "<text font-family=\"Times New Roman,serif\" font-size=\"14.00\" text-anchor=\"middle\" x=\"143.5\" y=\"-268.8\">global_max_pooling1d_1: GlobalMaxPooling1D</text>\n",
       "<polyline fill=\"none\" points=\"287,-249.5 287,-295.5 \" stroke=\"black\"/>\n",
       "<text font-family=\"Times New Roman,serif\" font-size=\"14.00\" text-anchor=\"middle\" x=\"315\" y=\"-280.3\">input:</text>\n",
       "<polyline fill=\"none\" points=\"287,-272.5 343,-272.5 \" stroke=\"black\"/>\n",
       "<text font-family=\"Times New Roman,serif\" font-size=\"14.00\" text-anchor=\"middle\" x=\"315\" y=\"-257.3\">output:</text>\n",
       "<polyline fill=\"none\" points=\"343,-249.5 343,-295.5 \" stroke=\"black\"/>\n",
       "<text font-family=\"Times New Roman,serif\" font-size=\"14.00\" text-anchor=\"middle\" x=\"398.5\" y=\"-280.3\">(None, 798, 250)</text>\n",
       "<polyline fill=\"none\" points=\"343,-272.5 454,-272.5 \" stroke=\"black\"/>\n",
       "<text font-family=\"Times New Roman,serif\" font-size=\"14.00\" text-anchor=\"middle\" x=\"398.5\" y=\"-257.3\">(None, 250)</text>\n",
       "</g>\n",
       "<!-- 1371863287904&#45;&gt;1371883034104 -->\n",
       "<g class=\"edge\" id=\"edge4\"><title>1371863287904-&gt;1371883034104</title>\n",
       "<path d=\"M227,-332.366C227,-324.152 227,-314.658 227,-305.725\" fill=\"none\" stroke=\"black\"/>\n",
       "<polygon fill=\"black\" points=\"230.5,-305.607 227,-295.607 223.5,-305.607 230.5,-305.607\" stroke=\"black\"/>\n",
       "</g>\n",
       "<!-- 1371803508072 -->\n",
       "<g class=\"node\" id=\"node5\"><title>1371803508072</title>\n",
       "<polygon fill=\"none\" points=\"105.5,-166.5 105.5,-212.5 348.5,-212.5 348.5,-166.5 105.5,-166.5\" stroke=\"black\"/>\n",
       "<text font-family=\"Times New Roman,serif\" font-size=\"14.00\" text-anchor=\"middle\" x=\"157.5\" y=\"-185.8\">dense_1: Dense</text>\n",
       "<polyline fill=\"none\" points=\"209.5,-166.5 209.5,-212.5 \" stroke=\"black\"/>\n",
       "<text font-family=\"Times New Roman,serif\" font-size=\"14.00\" text-anchor=\"middle\" x=\"237.5\" y=\"-197.3\">input:</text>\n",
       "<polyline fill=\"none\" points=\"209.5,-189.5 265.5,-189.5 \" stroke=\"black\"/>\n",
       "<text font-family=\"Times New Roman,serif\" font-size=\"14.00\" text-anchor=\"middle\" x=\"237.5\" y=\"-174.3\">output:</text>\n",
       "<polyline fill=\"none\" points=\"265.5,-166.5 265.5,-212.5 \" stroke=\"black\"/>\n",
       "<text font-family=\"Times New Roman,serif\" font-size=\"14.00\" text-anchor=\"middle\" x=\"307\" y=\"-197.3\">(None, 250)</text>\n",
       "<polyline fill=\"none\" points=\"265.5,-189.5 348.5,-189.5 \" stroke=\"black\"/>\n",
       "<text font-family=\"Times New Roman,serif\" font-size=\"14.00\" text-anchor=\"middle\" x=\"307\" y=\"-174.3\">(None, 250)</text>\n",
       "</g>\n",
       "<!-- 1371883034104&#45;&gt;1371803508072 -->\n",
       "<g class=\"edge\" id=\"edge5\"><title>1371883034104-&gt;1371803508072</title>\n",
       "<path d=\"M227,-249.366C227,-241.152 227,-231.658 227,-222.725\" fill=\"none\" stroke=\"black\"/>\n",
       "<polygon fill=\"black\" points=\"230.5,-222.607 227,-212.607 223.5,-222.607 230.5,-222.607\" stroke=\"black\"/>\n",
       "</g>\n",
       "<!-- 1371018495816 -->\n",
       "<g class=\"node\" id=\"node6\"><title>1371018495816</title>\n",
       "<polygon fill=\"none\" points=\"83.5,-83.5 83.5,-129.5 370.5,-129.5 370.5,-83.5 83.5,-83.5\" stroke=\"black\"/>\n",
       "<text font-family=\"Times New Roman,serif\" font-size=\"14.00\" text-anchor=\"middle\" x=\"157.5\" y=\"-102.8\">activation_1: Activation</text>\n",
       "<polyline fill=\"none\" points=\"231.5,-83.5 231.5,-129.5 \" stroke=\"black\"/>\n",
       "<text font-family=\"Times New Roman,serif\" font-size=\"14.00\" text-anchor=\"middle\" x=\"259.5\" y=\"-114.3\">input:</text>\n",
       "<polyline fill=\"none\" points=\"231.5,-106.5 287.5,-106.5 \" stroke=\"black\"/>\n",
       "<text font-family=\"Times New Roman,serif\" font-size=\"14.00\" text-anchor=\"middle\" x=\"259.5\" y=\"-91.3\">output:</text>\n",
       "<polyline fill=\"none\" points=\"287.5,-83.5 287.5,-129.5 \" stroke=\"black\"/>\n",
       "<text font-family=\"Times New Roman,serif\" font-size=\"14.00\" text-anchor=\"middle\" x=\"329\" y=\"-114.3\">(None, 250)</text>\n",
       "<polyline fill=\"none\" points=\"287.5,-106.5 370.5,-106.5 \" stroke=\"black\"/>\n",
       "<text font-family=\"Times New Roman,serif\" font-size=\"14.00\" text-anchor=\"middle\" x=\"329\" y=\"-91.3\">(None, 250)</text>\n",
       "</g>\n",
       "<!-- 1371803508072&#45;&gt;1371018495816 -->\n",
       "<g class=\"edge\" id=\"edge6\"><title>1371803508072-&gt;1371018495816</title>\n",
       "<path d=\"M227,-166.366C227,-158.152 227,-148.658 227,-139.725\" fill=\"none\" stroke=\"black\"/>\n",
       "<polygon fill=\"black\" points=\"230.5,-139.607 227,-129.607 223.5,-139.607 230.5,-139.607\" stroke=\"black\"/>\n",
       "</g>\n",
       "<!-- 1371826536576 -->\n",
       "<g class=\"node\" id=\"node7\"><title>1371826536576</title>\n",
       "<polygon fill=\"none\" points=\"105.5,-0.5 105.5,-46.5 348.5,-46.5 348.5,-0.5 105.5,-0.5\" stroke=\"black\"/>\n",
       "<text font-family=\"Times New Roman,serif\" font-size=\"14.00\" text-anchor=\"middle\" x=\"157.5\" y=\"-19.8\">dense_2: Dense</text>\n",
       "<polyline fill=\"none\" points=\"209.5,-0.5 209.5,-46.5 \" stroke=\"black\"/>\n",
       "<text font-family=\"Times New Roman,serif\" font-size=\"14.00\" text-anchor=\"middle\" x=\"237.5\" y=\"-31.3\">input:</text>\n",
       "<polyline fill=\"none\" points=\"209.5,-23.5 265.5,-23.5 \" stroke=\"black\"/>\n",
       "<text font-family=\"Times New Roman,serif\" font-size=\"14.00\" text-anchor=\"middle\" x=\"237.5\" y=\"-8.3\">output:</text>\n",
       "<polyline fill=\"none\" points=\"265.5,-0.5 265.5,-46.5 \" stroke=\"black\"/>\n",
       "<text font-family=\"Times New Roman,serif\" font-size=\"14.00\" text-anchor=\"middle\" x=\"307\" y=\"-31.3\">(None, 250)</text>\n",
       "<polyline fill=\"none\" points=\"265.5,-23.5 348.5,-23.5 \" stroke=\"black\"/>\n",
       "<text font-family=\"Times New Roman,serif\" font-size=\"14.00\" text-anchor=\"middle\" x=\"307\" y=\"-8.3\">(None, 1)</text>\n",
       "</g>\n",
       "<!-- 1371018495816&#45;&gt;1371826536576 -->\n",
       "<g class=\"edge\" id=\"edge7\"><title>1371018495816-&gt;1371826536576</title>\n",
       "<path d=\"M227,-83.3664C227,-75.1516 227,-65.6579 227,-56.7252\" fill=\"none\" stroke=\"black\"/>\n",
       "<polygon fill=\"black\" points=\"230.5,-56.6068 227,-46.6068 223.5,-56.6069 230.5,-56.6068\" stroke=\"black\"/>\n",
       "</g>\n",
       "<!-- 1371404708720 -->\n",
       "<g class=\"node\" id=\"node8\"><title>1371404708720</title>\n",
       "<polygon fill=\"none\" points=\"175,-581.5 175,-617.5 279,-617.5 279,-581.5 175,-581.5\" stroke=\"black\"/>\n",
       "<text font-family=\"Times New Roman,serif\" font-size=\"14.00\" text-anchor=\"middle\" x=\"227\" y=\"-595.8\">1371404708720</text>\n",
       "</g>\n",
       "<!-- 1371404708720&#45;&gt;1371404709000 -->\n",
       "<g class=\"edge\" id=\"edge1\"><title>1371404708720-&gt;1371404709000</title>\n",
       "<path d=\"M227,-581.254C227,-573.363 227,-563.749 227,-554.602\" fill=\"none\" stroke=\"black\"/>\n",
       "<polygon fill=\"black\" points=\"230.5,-554.591 227,-544.591 223.5,-554.591 230.5,-554.591\" stroke=\"black\"/>\n",
       "</g>\n",
       "</g>\n",
       "</svg>"
      ],
      "text/plain": [
       "<IPython.core.display.SVG object>"
      ]
     },
     "execution_count": 11,
     "metadata": {},
     "output_type": "execute_result"
    }
   ],
   "source": [
    "SVG(model_to_dot(model,show_shapes = True).create(prog='dot', format='svg'))"
   ]
  },
  {
   "cell_type": "markdown",
   "metadata": {},
   "source": [
    "Now the model is pre-configured for the training run. [[13]](#r13)<br>\n",
    "The argumnete used are:\n",
    "- **optimizer:** String (name of optimizer) or optimizer instance.\n",
    "- **loss:** String (name of objective function) or objective function. If the model has multiple outputs, you can use a different loss on each output by passing a dictionary or a list of losses. The loss value that will be minimized by the model will then be the sum of all individual losses.\n",
    "- **metrics:** List of metrics to be evaluated by the model during training and testing. Typically you will use metrics=['accuracy']. To specify different metrics for different outputs of a multi-output model, you could also pass a dictionary, such as metrics={'output_a': 'accuracy'}."
   ]
  },
  {
   "cell_type": "code",
   "execution_count": 12,
   "metadata": {},
   "outputs": [
    {
     "name": "stdout",
     "output_type": "stream",
     "text": [
      "Train on 25000 samples, validate on 25000 samples\n",
      "Epoch 1/10\n",
      "25000/25000 [==============================] - 13s 503us/step - loss: 0.4422 - acc: 0.7743 - val_loss: 0.3430 - val_acc: 0.8511\n",
      "Epoch 2/10\n",
      "25000/25000 [==============================] - 10s 390us/step - loss: 0.2624 - acc: 0.8908 - val_loss: 0.2857 - val_acc: 0.8779\n",
      "Epoch 3/10\n",
      "25000/25000 [==============================] - 10s 392us/step - loss: 0.2055 - acc: 0.9202 - val_loss: 0.2823 - val_acc: 0.8813\n",
      "Epoch 4/10\n",
      "25000/25000 [==============================] - 10s 392us/step - loss: 0.1722 - acc: 0.9334 - val_loss: 0.2622 - val_acc: 0.8931\n",
      "Epoch 5/10\n",
      "25000/25000 [==============================] - 10s 390us/step - loss: 0.1429 - acc: 0.9467 - val_loss: 0.2895 - val_acc: 0.8886\n",
      "Epoch 6/10\n",
      "25000/25000 [==============================] - 10s 390us/step - loss: 0.1236 - acc: 0.9543 - val_loss: 0.2916 - val_acc: 0.8912\n",
      "Epoch 7/10\n",
      "25000/25000 [==============================] - 10s 392us/step - loss: 0.1117 - acc: 0.9565 - val_loss: 0.2987 - val_acc: 0.8846\n",
      "Epoch 8/10\n",
      "25000/25000 [==============================] - 10s 393us/step - loss: 0.1012 - acc: 0.9624 - val_loss: 0.3185 - val_acc: 0.8864\n",
      "Epoch 9/10\n",
      "25000/25000 [==============================] - 10s 393us/step - loss: 0.0942 - acc: 0.9642 - val_loss: 0.2951 - val_acc: 0.8904\n",
      "Epoch 10/10\n",
      "25000/25000 [==============================] - 10s 392us/step - loss: 0.0805 - acc: 0.9698 - val_loss: 0.3311 - val_acc: 0.8899\n"
     ]
    }
   ],
   "source": [
    "history = model.fit(x_train, y_train,\n",
    "                    batch_size=32,\n",
    "                    epochs=10,\n",
    "                    validation_data=(x_test, y_test))"
   ]
  },
  {
   "cell_type": "markdown",
   "metadata": {},
   "source": [
    "Trains the model on a data set for a specific number of iterations. [[13]](#r13)\n",
    "\n",
    "The arguments:\n",
    "- **x:** Numpy array of training data (if the model has a single input), or list of Numpy arrays (if the model has multiple inputs). If input layers in the model are named, you can also pass a dictionary mapping input names to Numpy arrays. x can be None (default) if feeding from framework-native tensors (e.g. TensorFlow data tensors)\n",
    "- **y:** Numpy array of target (label) data (if the model has a single output), or list of Numpy arrays (if the model has multiple outputs). If output layers in the model are named, you can also pass a dictionary mapping output names to Numpy arrays. y can be None (default) if feeding from framework-native tensors (e.g. TensorFlow data tensors)\n",
    "- **batch_size:** Integer or None. Number of samples per gradient update. If unspecified, `batch_size` will default to 32\n",
    "- **epochs:** Integer. Number of epochs to train the model. An epoch is an iteration over the entire x and y data provided. Note that in conjunction with initial_epoch, epochs is to be understood as \"final epoch\". The model is not trained for a number of iterations given by epochs, but merely until the epoch of index epochs is reached\n",
    "- **validation_data:** tuple (`x_val`,` y_val`) or tuple (`x_val`, `y_val`, `val_sample_weights`) on which to evaluate the loss and any model metrics at the end of each epoch. The model will not be trained on this data. `validation_data` will override `validation_split`"
   ]
  },
  {
   "cell_type": "markdown",
   "metadata": {},
   "source": [
    "### Evaluation data<a id=\"Evaluation_data\"></a>"
   ]
  },
  {
   "cell_type": "code",
   "execution_count": 13,
   "metadata": {},
   "outputs": [
    {
     "data": {
      "text/plain": [
       "dict_keys(['val_loss', 'val_acc', 'loss', 'acc'])"
      ]
     },
     "execution_count": 13,
     "metadata": {},
     "output_type": "execute_result"
    }
   ],
   "source": [
    "history_dict = history.history\n",
    "history_dict.keys()"
   ]
  },
  {
   "cell_type": "markdown",
   "metadata": {},
   "source": [
    "### Plot data<a id=\"Plot_data\"></a>"
   ]
  },
  {
   "cell_type": "code",
   "execution_count": 14,
   "metadata": {},
   "outputs": [
    {
     "data": {
      "image/png": "[encoded data removed]",
      "text/plain": [
       "<Figure size 720x360 with 2 Axes>"
      ]
     },
     "metadata": {
      "needs_background": "light"
     },
     "output_type": "display_data"
    }
   ],
   "source": [
    "val_loss = history.history['val_loss']\n",
    "loss = history.history['loss']\n",
    "accuracy = history.history['acc']\n",
    "val_accuracy = history.history['val_acc']\n",
    "\n",
    "epochs = range(1, len(accuracy) + 1)\n",
    "\n",
    "plt.rcParams['figure.figsize'] = [10, 5]\n",
    "plt.subplot(1, 2, 1)\n",
    "plt.plot(epochs, loss, 'bo', label='Training loss', color='red')\n",
    "plt.plot(epochs,val_loss , 'b', label='Validation loss', color='green')\n",
    "plt.title('Training and validation loss')\n",
    "plt.xlabel('Epochs')\n",
    "plt.ylabel('Loss')\n",
    "plt.legend()\n",
    "\n",
    "plt.subplot(1, 2, 2)\n",
    "plt.plot(epochs, accuracy, 'bo', label='Training acc', color='red')\n",
    "plt.plot(epochs, val_accuracy, 'b', label='Validation acc', color='green')\n",
    "plt.title('Training and validation accuracy')\n",
    "plt.xlabel('Epochs')\n",
    "plt.ylabel('Accuracy')\n",
    "plt.legend()\n",
    "plt.tight_layout()\n",
    "plt.show()"
   ]
  },
  {
   "cell_type": "markdown",
   "metadata": {},
   "source": [
    "## Predictions<a id=\"predictions\"></a>\n",
    "\n",
    "Once you have trained your network, you would like to use it in a practical scenario. You can increase the likelihood of positive ratings\n",
    "with the predict method:  [[4]](#r4)"
   ]
  },
  {
   "cell_type": "code",
   "execution_count": 15,
   "metadata": {},
   "outputs": [
    {
     "name": "stdout",
     "output_type": "stream",
     "text": [
      "Train on 25000 samples, validate on 25000 samples\n",
      "Epoch 1/3\n",
      "25000/25000 [==============================] - 11s 422us/step - loss: 0.4405 - acc: 0.7794 - val_loss: 0.2893 - val_acc: 0.8790\n",
      "Epoch 2/3\n",
      "25000/25000 [==============================] - 10s 414us/step - loss: 0.2588 - acc: 0.8961 - val_loss: 0.2537 - val_acc: 0.8940\n",
      "Epoch 3/3\n",
      "25000/25000 [==============================] - 10s 398us/step - loss: 0.2070 - acc: 0.9180 - val_loss: 0.2723 - val_acc: 0.8862\n"
     ]
    }
   ],
   "source": [
    "model_prediction = Sequential()\n",
    "model_prediction.add(Embedding(10000, 50, input_length=800))\n",
    "model_prediction.add(Dropout(0.5))\n",
    "model_prediction.add(Conv1D(filters=250, kernel_size=3, padding='valid', activation='relu', strides=1))\n",
    "model_prediction.add(GlobalMaxPooling1D())\n",
    "model_prediction.add(Dense(250))\n",
    "model_prediction.add(Activation('relu'))\n",
    "model_prediction.add(Dense(1))\n",
    "model_prediction.add(Activation('sigmoid'))\n",
    "model_prediction.compile(loss='binary_crossentropy', optimizer='adam', metrics=['accuracy'])   \n",
    "#\n",
    "# training\n",
    "#\n",
    "history = model_prediction.fit(x_train, y_train, batch_size=32, epochs=3, validation_data=(x_test, y_test))"
   ]
  },
  {
   "cell_type": "code",
   "execution_count": 16,
   "metadata": {},
   "outputs": [
    {
     "name": "stdout",
     "output_type": "stream",
     "text": [
      "25000/25000 [==============================] - 2s 85us/step\n",
      "Accuracy on test set: [0.2722589012670517, 0.88616]\n",
      "Test loss: 0.2722589012670517\n",
      "Test accuracy: 0.88616\n"
     ]
    }
   ],
   "source": [
    "results = model_prediction.evaluate(x_test, y_test)\n",
    "print (\"Accuracy on test set:\" , results)\n",
    "print('Test loss:', results[0])\n",
    "print('Test accuracy:', results[1])"
   ]
  },
  {
   "cell_type": "code",
   "execution_count": 17,
   "metadata": {},
   "outputs": [
    {
     "data": {
      "text/plain": [
       "(array([10029.,  1415.,   898.,   753.,   663.,   721.,   744.,  1018.,\n",
       "         1571.,  7188.]),\n",
       " array([6.7823334e-05, 1.0002697e-01, 1.9998612e-01, 2.9994527e-01,\n",
       "        3.9990440e-01, 4.9986356e-01, 5.9982270e-01, 6.9978184e-01,\n",
       "        7.9974103e-01, 8.9970016e-01, 9.9965930e-01], dtype=float32),\n",
       " <a list of 10 Patch objects>)"
      ]
     },
     "execution_count": 17,
     "metadata": {},
     "output_type": "execute_result"
    },
    {
     "data": {
      "image/png": "[encoded data removed]",
      "text/plain": [
       "<Figure size 720x360 with 1 Axes>"
      ]
     },
     "metadata": {
      "needs_background": "light"
     },
     "output_type": "display_data"
    }
   ],
   "source": [
    "plt.hist(model_prediction.predict(x_test))"
   ]
  },
  {
   "cell_type": "markdown",
   "metadata": {},
   "source": [
    "Identify a review of the test set that was predicted as positive (prediction score > 0.5) but was rated 0 (negative)."
   ]
  },
  {
   "cell_type": "code",
   "execution_count": 18,
   "metadata": {},
   "outputs": [
    {
     "name": "stdout",
     "output_type": "stream",
     "text": [
      "Predicted score:  794\n"
     ]
    }
   ],
   "source": [
    "y_pred = model_prediction.predict(x_test)\n",
    "prediction_is_positive = y_pred > 0.5\n",
    "label_is_negative = y_test.reshape((25000,1)) == 0\n",
    "\n",
    "incorrect_cases = np.where(np.logical_and( prediction_is_positive  , label_is_negative ))[0]\n",
    "#print (\"All incorrect cases: \",incorrect_cases[0:])\n",
    "print (\"Predicted score: \", len(incorrect_cases))"
   ]
  },
  {
   "cell_type": "markdown",
   "metadata": {},
   "source": [
    "## Compromise<a id=\"compromise\"></a>\n",
    "<br><table><tr>\n",
    "    <td>![Compromise CNN Plot](img/vergleich_cnn01_plot.png \"Compromise CNN Plot\")</td>\n",
    "    <td>![Compromise CNN Prediction](img/vergleich_cnn1_data.png \"[Compromise CNN Prediction\")</td>\n",
    "    </tr><tr>\n",
    "        <td>Compromise Plot</td>\n",
    "        <td>Compromise Prediction</td>\n",
    "</tr></table> \n",
    "\n",
    "The images `Compromise Plot` and `Compromise Prediction` are taken from the notebook `31_Neural_Networks_IMDB` [[4]](#r4) and should serve as validation of our model.\n",
    "If we compare the plots, we only see a slightly different distribution of the prediction values. The model from this notebook had more negative reviews than the model from notebook 31_Neural_Networks_IMDB. Which of the models makes the better prediction cannot be seen from the plot diagram. In both cases, the first 10 incorrectly marked reviews were checked. It is noticeable that our model makes a less \"wrong\" prediction than the model from the notebook 31_Neural_Networks_IMDB. However, since this value is not extremely different, it cannot be assumed that our model is actually a more suitable model. Both models could be improved by optimizations. In addition, both are simple examples. It should also be noted that the value moves back and forth within a certain range. This means that if the notebook is run through again, the model may perform worse, but also much better. The same is true for the other model. Therefore it is often the case in the AI area that several models are trained at the same time to find the best of all models."
   ]
  },
  {
   "cell_type": "markdown",
   "metadata": {},
   "source": [
    "## Summary<a id=\"summary\"></a>\n",
    "Let's recap what we have learned in this tutorial:\n",
    "\n",
    "- What is the idea behind 1D-CNN and how is it built?\n",
    "- How a 1D-CNN model is structured in Keras and how you can tune its parameters\n",
    "- How to train a model to fit a text dataset\n",
    "- How to visualize the training history"
   ]
  },
  {
   "cell_type": "markdown",
   "metadata": {},
   "source": [
    "## References<a id=\"references\"></a>\n",
    "\n",
    "### Code\n",
    "[1] https://github.com/keras-team/keras/blob/master/examples/imdb_cnn.py<a id=\"r1\"></a><br>\n",
    "[2] 13_Matplotlib (Deep Learning Exercise)<a id=\"r2\"></a><br>\n",
    "[3] 31_Neural_Networks_IMDB (Deep Learning Exercise)<a id=\"r3\"></a><br>\n",
    "[4] 41_CNNs_MNIST (Deep Learning Übung)<a id=\"r4\"></a>\n",
    "\n",
    "### Explanations\n",
    "[5] https://keras.io/datasets/<a id=\"r5\"></a><br>\n",
    "[6] https://keras.io/preprocessing/sequence/<a id=\"r6\"></a><br>\n",
    "[7] https://keras.io/layers/convolutional/<a id=\"r7\"></a><br>\n",
    "[8] https://www.wandb.com/classes/intro/class-8<a id=\"r8\"></a><br>\n",
    "[9] https://towardsdatascience.com/neural-network-embeddings-explained-4d028e6f0526<a id=\"r9\"></a><br>\n",
    "[10] https://keras.io/layers/embeddings/<a id=\"r10\"></a><br>\n",
    "[11] https://keras.io/layers/pooling/<a id=\"r11\"></a><br>\n",
    "[12] https://keras.io/layers/core/<a id=\"r12\"></a><br>\n",
    "[13] https://keras.io/models/model/<a id=\"r13\"></a><br>\n",
    "\n",
    "### Other Rescources\n",
    "[14] https://www.youtube.com/watch?v=ST73HFC4Lpo<a id=\"r14\"></a><br>\n",
    "[15] https://medium.com/@abhigoku10/activation-functions-and-its-types-in-artifical-neural-network-14511f3080a8<a id=\"r15\"></a><br>"
   ]
  },
  {
   "cell_type": "markdown",
   "metadata": {},
   "source": [
    "___\n",
    "## All-in-one solution"
   ]
  },
  {
   "cell_type": "code",
   "execution_count": null,
   "metadata": {},
   "outputs": [],
   "source": [
    "from __future__ import print_function\n",
    "\n",
    "from keras.preprocessing import sequence\n",
    "from keras.models import Sequential\n",
    "from keras.layers import Dense, Dropout, Activation, Conv1D, GlobalMaxPooling1D, Embedding\n",
    "from keras.datasets import imdb\n",
    "from keras.utils import plot_model\n",
    "from keras import optimizers\n",
    "import matplotlib.pyplot as plt\n",
    "import numpy as np\n",
    "from IPython.display import SVG\n",
    "from keras.utils.vis_utils import model_to_dot\n",
    "#\n",
    "# Get data\n",
    "#\n",
    "print('Loading data...')\n",
    "(x_train, y_train), (x_test, y_test) = imdb.load_data(num_words=10000)\n",
    "test_data = x_test\n",
    "print(len(x_train), 'train sequences')\n",
    "print(len(x_test), 'test sequences')\n",
    "#print(x_train[450])\n",
    "\n",
    "print('Pad sequences (samples x time)')\n",
    "x_train = sequence.pad_sequences(sequences=x_train, maxlen=800)\n",
    "x_test = sequence.pad_sequences(sequences=x_test, maxlen=800)\n",
    "print('x_train shape:', x_train.shape)\n",
    "print('x_test shape:', x_test.shape)\n",
    "print('Build model...')\n",
    "model = Sequential()\n",
    "#\n",
    "# prepeare model\n",
    "#\n",
    "model.add(Embedding(input_dim=10000, output_dim=100, input_length=800))\n",
    "model.add(Dropout(0.5))\n",
    "model.add(Conv1D(filters=250, kernel_size=3, padding='valid', activation='relu', strides=1))\n",
    "model.add(GlobalMaxPooling1D())\n",
    "model.add(Dense(250))\n",
    "model.add(Dropout(0.5))\n",
    "model.add(Activation('relu'))\n",
    "model.add(Dense(1, activation='sigmoid'))\n",
    "model.compile(loss='binary_crossentropy', optimizer='adam', metrics=['accuracy'])              \n",
    "#model.summary()\n",
    "SVG(model_to_dot(model,show_shapes = True).create(prog='dot', format='svg'))\n",
    "#\n",
    "# Training\n",
    "#\n",
    "history = model.fit(x_train, y_train, batch_size=32, epochs=10, validation_data=(x_test, y_test))\n",
    "history_dict = history.history\n",
    "history_dict.keys()\n",
    "#\n",
    "# evaluation\n",
    "#\n",
    "results = model.evaluate(x_test, y_test)\n",
    "print (\"Accuracy on test set:\" , results)\n",
    "print('Test loss:', results[0])\n",
    "print('Test accuracy:', results[1])\n",
    "#\n",
    "# Plot\n",
    "#\n",
    "val_loss = history.history['val_loss']\n",
    "loss = history.history['loss']\n",
    "accuracy = history.history['acc']\n",
    "val_accuracy = history.history['val_acc']\n",
    "\n",
    "epochs = range(1, len(accuracy) + 1)\n",
    "\n",
    "plt.rcParams['figure.figsize'] = [10, 5]\n",
    "plt.subplot(1, 2, 1)\n",
    "plt.plot(epochs, loss, 'bo', label='Training loss', color='red')\n",
    "plt.plot(epochs,val_loss , 'b', label='Validation loss', color='green')\n",
    "plt.title('Training and validation loss')\n",
    "plt.xlabel('Epochs')\n",
    "plt.ylabel('Loss')\n",
    "plt.legend()\n",
    "\n",
    "plt.subplot(1, 2, 2)\n",
    "plt.plot(epochs, accuracy, 'bo', label='Training acc', color='red')\n",
    "plt.plot(epochs, val_accuracy, 'b', label='Validation acc', color='green')\n",
    "plt.title('Training and validation accuracy')\n",
    "plt.xlabel('Epochs')\n",
    "plt.ylabel('Accuracy')\n",
    "plt.legend()\n",
    "plt.tight_layout()\n",
    "plt.show()\n",
    "#\n",
    "# PREDICTION\n",
    "#\n",
    "model_prediction = Sequential()\n",
    "model_prediction.add(Embedding(10000, 50, input_length=800))\n",
    "model_prediction.add(Dropout(0.5))\n",
    "model_prediction.add(Conv1D(filters=250, kernel_size=3, padding='valid', activation='relu', strides=1))\n",
    "model_prediction.add(GlobalMaxPooling1D())\n",
    "model_prediction.add(Dense(250))\n",
    "model_prediction.add(Activation('relu'))\n",
    "model_prediction.add(Dense(1))\n",
    "model_prediction.add(Activation('sigmoid'))\n",
    "model_prediction.compile(loss='binary_crossentropy', optimizer='adam', metrics=['accuracy'])   \n",
    "#\n",
    "# training\n",
    "#\n",
    "history = model_prediction.fit(x_train, y_train, batch_size=32, epochs=3, validation_data=(x_test, y_test))\n",
    "#\n",
    "# Evaluation\n",
    "#\n",
    "results = model.evaluate(x_test, y_test)\n",
    "print (\"Accuracy on test set:\" , results)\n",
    "print('Test loss:', results[0])\n",
    "print('Test accuracy:', results[1])\n",
    "#\n",
    "# Plot\n",
    "#\n",
    "plt.hist(model_prediction.predict(x_test))\n",
    "#\n",
    "# Prediction\n",
    "#\n",
    "y_pred = model_prediction.predict(x_test)\n",
    "prediction_is_positive = y_pred > 0.5\n",
    "label_is_negative = y_test.reshape((25000,1)) == 0\n",
    "\n",
    "incorrect_cases = np.where(np.logical_and( prediction_is_positive  , label_is_negative ))[0]\n",
    "#print (\"All incorrect cases: \",incorrect_cases[0:])\n",
    "print (\"Predicted score: \", len(incorrect_cases))"
   ]
  },
  {
   "cell_type": "code",
   "execution_count": null,
   "metadata": {},
   "outputs": [],
   "source": []
  }
 ],
 "metadata": {
  "kernelspec": {
   "display_name": "Python 3",
   "language": "python",
   "name": "python3"
  },
  "language_info": {
   "codemirror_mode": {
    "name": "ipython",
    "version": 3
   },
   "file_extension": ".py",
   "mimetype": "text/x-python",
   "name": "python",
   "nbconvert_exporter": "python",
   "pygments_lexer": "ipython3",
   "version": "3.6.8"
  }
 },
 "nbformat": 4,
 "nbformat_minor": 2
}
